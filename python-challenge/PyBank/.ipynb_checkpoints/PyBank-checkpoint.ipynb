{
 "cells": [
  {
   "cell_type": "code",
   "execution_count": 9,
   "metadata": {
    "scrolled": true
   },
   "outputs": [
    {
     "name": "stdout",
     "output_type": "stream",
     "text": [
      "Financial Analysis\n",
      "----------------------------\n",
      "Total Months: 86\n",
      "Total: $38382578\n",
      "Average Change: $-2315.12\n",
      "Greatest Increase in Profits: Feb-2012 ($1926159)\n",
      "Greatest Decrease in Profits: Sep-2013 ($-2196167)\n"
     ]
    }
   ],
   "source": [
    "import os\n",
    "import csv\n",
    "\n",
    "with open (\"budget_data.csv\") as csvfile: \n",
    "    csvreader = csv.reader(csvfile, delimiter = \",\")\n",
    "    \n",
    "    csv_header = next(csvreader)\n",
    "    #print(f\"CSV Header: {csv_header}\")\n",
    "    \n",
    "    Date = []\n",
    "    Profit_Losses = []\n",
    "    \n",
    "    for record in csvreader:\n",
    "        Date.append(record[0])\n",
    "        Profit_Losses.append(int(record[1]))\n",
    "        \n",
    "Total_Months = len(Date)\n",
    "Total_Amount = sum(Profit_Losses)\n",
    "\n",
    "\n",
    "Change = []        \n",
    "for i in range(0,len(Profit_Losses)-1):\n",
    "    Change.append(Profit_Losses[i+1]-Profit_Losses[i])\n",
    "    \n",
    "Max_Amount = max(Change)\n",
    "Min_Amount = min(Change)\n",
    "\n",
    "for i in range(0,len(Profit_Losses)):\n",
    "    if Profit_Losses[i] == Max_Amount: \n",
    "        Max_Date = Date[i]\n",
    "        \n",
    "        \n",
    "for i in range(0,len(Profit_Losses)):\n",
    "    if Profit_Losses[i] == Min_Amount:\n",
    "        Min_Date = Date[i]\n",
    "\n",
    "Avg_Change = sum(Change)/(Total_Months-1)\n",
    "Avg_Change = round(Avg_Change,2)\n",
    "\n",
    "\n",
    "print(f\"\"\"Financial Analysis\n",
    "----------------------------\n",
    "Total Months: {Total_Months}\n",
    "Total: ${Total_Amount}\n",
    "Average Change: ${Avg_Change}\n",
    "Greatest Increase in Profits: {Max_Date} (${Max_Amount})\n",
    "Greatest Decrease in Profits: {Min_Date} (${Min_Amount})\"\"\")\n",
    "\n",
    "list1 = [\"Financial Analysis\"]\n",
    "list2 = [\"----------------------------\"]\n",
    "list3 = [f\"Total Months: {Total_Months}\"]\n",
    "list4 = [f\"Total: ${Total_Amount}\"]\n",
    "list5 = [f\"Average Change: ${Avg_Change}\"]\n",
    "list6 = [f\"Greatest Increase in Profits: {Max_Date} (${Max_Amount})\"]\n",
    "list7 = [f\"Greatest Decrease in Profits: {Min_Date} (${Min_Amount})\"]\n",
    "\n",
    "\n",
    "with open(\"PyBank\",'w') as csvfile:\n",
    "    csvwriter = csv.writer(csvfile, delimiter = \",\")\n",
    "    for row in [list1, list2, list3, list4, list5, list6, list7]:\n",
    "           csvwriter.writerow(row)\n",
    "            \n",
    "csvfile.close()"
   ]
  }
 ],
 "metadata": {
  "kernelspec": {
   "display_name": "Python 3",
   "language": "python",
   "name": "python3"
  },
  "language_info": {
   "codemirror_mode": {
    "name": "ipython",
    "version": 3
   },
   "file_extension": ".py",
   "mimetype": "text/x-python",
   "name": "python",
   "nbconvert_exporter": "python",
   "pygments_lexer": "ipython3",
   "version": "3.7.4"
  }
 },
 "nbformat": 4,
 "nbformat_minor": 2
}
