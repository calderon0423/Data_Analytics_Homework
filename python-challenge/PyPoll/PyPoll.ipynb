{
 "cells": [
  {
   "cell_type": "code",
   "execution_count": 107,
   "metadata": {},
   "outputs": [],
   "source": [
    "import os\n",
    "import csv\n",
    "\n",
    "with open(\"election_data.csv\") as csvfile:\n",
    "    csvreader = csv.reader(csvfile, delimiter = \",\")\n",
    "\n",
    "    csv_header = next(csvreader)\n",
    "\n",
    "    voter_id = []\n",
    "    county = []\n",
    "    candidate = []\n",
    "\n",
    "    for record in csvreader: \n",
    "        voter_id.append(int(record[0]))\n",
    "        county.append(record[1])\n",
    "        candidate.append(record[2])\n",
    "\n",
    "total_votes = len(voter_id)\n",
    "\n",
    "uniqueCandidate = []\n",
    "for x in candidate:\n",
    "    if x not in uniqueCandidate:\n",
    "        uniqueCandidate.append(x)\n",
    "\n",
    "Khan = 0\n",
    "Correy = 0\n",
    "Li = 0 \n",
    "O_Tooley = 0 \n",
    "for x in candidate: \n",
    "    if x == \"Khan\": \n",
    "        Khan = Khan + 1\n",
    "    elif x == \"Correy\":\n",
    "        Correy = Correy + 1\n",
    "    elif x == \"Li\":\n",
    "        Li = Li + 1\n",
    "    elif x == \"O'Tooley\":\n",
    "        O_Tooley = O_Tooley + 1\n",
    "        \n",
    "KhanPercent = \"{0:.3f}\".format(round(Khan/total_votes,2)*100)\n",
    "CorreyPercent = \"{0:.3f}\".format(round(Correy/total_votes,2)*100)\n",
    "LiPercent = \"{0:.3f}\".format(round(Li/total_votes,2)*100)\n",
    "O_TooleyPercent = \"{0:.3f}\".format(round(O_Tooley/total_votes,2)*100)\n",
    "\n",
    "candidate_votes = {\"Khan\":Khan, \"Correy\":Correy, \"Li\":Li, \"O'Tooley\":O_Tooley}\n",
    "Winner = max(candidate_votes, key=candidate_votes.get)\n"
   ]
  },
  {
   "cell_type": "code",
   "execution_count": 110,
   "metadata": {},
   "outputs": [],
   "source": [
    "L1 = [\"Election Results\"]\n",
    "L2 = [\"-------------------------\"]\n",
    "L3 = [f\"Total Votes: {total_votes}\"]\n",
    "L4 = [\"-------------------------\"]\n",
    "L5 = [f\"{uniqueCandidate[0]}: {KhanPercent}% ({Khan})\"]\n",
    "L6 = [f\"{uniqueCandidate[1]}: {CorreyPercent}% ({Correy})\"]\n",
    "L7 = [f\"{uniqueCandidate[2]}: {LiPercent}% ({Li})\"]\n",
    "L8 = [f\"{uniqueCandidate[3]}: {O_TooleyPercent}% ({O_Tooley})\"]\n",
    "L9 = [\"-------------------------\"]\n",
    "L10 = [f\"Winner: {Winner}\"]\n",
    "\n",
    "with open(\"PyPoll\",'w') as csvfile:\n",
    "    csvwriter = csv.writer(csvfile, delimiter = \",\")\n",
    "    for row in [L1,L2, L3, L4, L4, L5, L6, L7, L8, L9, L10]:\n",
    "           csvwriter.writerow(row)\n",
    "            \n",
    "csvfile.close()"
   ]
  },
  {
   "cell_type": "code",
   "execution_count": null,
   "metadata": {},
   "outputs": [],
   "source": []
  }
 ],
 "metadata": {
  "kernelspec": {
   "display_name": "Python 3",
   "language": "python",
   "name": "python3"
  },
  "language_info": {
   "codemirror_mode": {
    "name": "ipython",
    "version": 3
   },
   "file_extension": ".py",
   "mimetype": "text/x-python",
   "name": "python",
   "nbconvert_exporter": "python",
   "pygments_lexer": "ipython3",
   "version": "3.7.4"
  }
 },
 "nbformat": 4,
 "nbformat_minor": 2
}
