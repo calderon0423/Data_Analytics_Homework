{
 "cells": [
  {
   "cell_type": "markdown",
   "metadata": {},
   "source": [
    "# VacationPy\n",
    "----\n",
    "\n",
    "#### Note\n",
    "* Instructions have been included for each segment. You do not have to follow them exactly, but they are included to help you think through the steps."
   ]
  },
  {
   "cell_type": "code",
   "execution_count": 1,
   "metadata": {},
   "outputs": [],
   "source": [
    "# Dependencies and Setup\n",
    "import matplotlib.pyplot as plt\n",
    "import pandas as pd\n",
    "import numpy as np\n",
    "import requests\n",
    "import gmaps\n",
    "import os\n",
    "\n",
    "# Import API key\n",
    "from api_keys import g_key\n",
    "\n",
    "filepath = \"../output_data/cities.csv\""
   ]
  },
  {
   "cell_type": "markdown",
   "metadata": {},
   "source": [
    "### Store Part I results into DataFrame\n",
    "* Load the csv exported in Part I to a DataFrame"
   ]
  },
  {
   "cell_type": "code",
   "execution_count": 2,
   "metadata": {},
   "outputs": [
    {
     "data": {
      "text/html": [
       "<div>\n",
       "<style scoped>\n",
       "    .dataframe tbody tr th:only-of-type {\n",
       "        vertical-align: middle;\n",
       "    }\n",
       "\n",
       "    .dataframe tbody tr th {\n",
       "        vertical-align: top;\n",
       "    }\n",
       "\n",
       "    .dataframe thead th {\n",
       "        text-align: right;\n",
       "    }\n",
       "</style>\n",
       "<table border=\"1\" class=\"dataframe\">\n",
       "  <thead>\n",
       "    <tr style=\"text-align: right;\">\n",
       "      <th></th>\n",
       "      <th>City</th>\n",
       "      <th>Temperature_Max</th>\n",
       "      <th>Latitude</th>\n",
       "      <th>Longitude</th>\n",
       "      <th>Humidity %</th>\n",
       "      <th>Cloudiness %</th>\n",
       "      <th>Wind Speed</th>\n",
       "    </tr>\n",
       "  </thead>\n",
       "  <tbody>\n",
       "    <tr>\n",
       "      <td>0</td>\n",
       "      <td>Pakse</td>\n",
       "      <td>33.00</td>\n",
       "      <td>15.12</td>\n",
       "      <td>105.78</td>\n",
       "      <td>46</td>\n",
       "      <td>40</td>\n",
       "      <td>1.00</td>\n",
       "    </tr>\n",
       "    <tr>\n",
       "      <td>1</td>\n",
       "      <td>Taltal</td>\n",
       "      <td>15.27</td>\n",
       "      <td>-25.40</td>\n",
       "      <td>-70.48</td>\n",
       "      <td>89</td>\n",
       "      <td>7</td>\n",
       "      <td>2.00</td>\n",
       "    </tr>\n",
       "    <tr>\n",
       "      <td>2</td>\n",
       "      <td>Bredasdorp</td>\n",
       "      <td>15.00</td>\n",
       "      <td>-34.53</td>\n",
       "      <td>20.04</td>\n",
       "      <td>93</td>\n",
       "      <td>18</td>\n",
       "      <td>1.00</td>\n",
       "    </tr>\n",
       "    <tr>\n",
       "      <td>3</td>\n",
       "      <td>Kapaa</td>\n",
       "      <td>25.00</td>\n",
       "      <td>22.08</td>\n",
       "      <td>-159.32</td>\n",
       "      <td>69</td>\n",
       "      <td>90</td>\n",
       "      <td>4.68</td>\n",
       "    </tr>\n",
       "    <tr>\n",
       "      <td>4</td>\n",
       "      <td>Saint Paul Harbor</td>\n",
       "      <td>5.00</td>\n",
       "      <td>57.79</td>\n",
       "      <td>-152.41</td>\n",
       "      <td>48</td>\n",
       "      <td>1</td>\n",
       "      <td>13.90</td>\n",
       "    </tr>\n",
       "  </tbody>\n",
       "</table>\n",
       "</div>"
      ],
      "text/plain": [
       "                City  Temperature_Max  Latitude  Longitude  Humidity %  \\\n",
       "0              Pakse            33.00     15.12     105.78          46   \n",
       "1             Taltal            15.27    -25.40     -70.48          89   \n",
       "2         Bredasdorp            15.00    -34.53      20.04          93   \n",
       "3              Kapaa            25.00     22.08    -159.32          69   \n",
       "4  Saint Paul Harbor             5.00     57.79    -152.41          48   \n",
       "\n",
       "   Cloudiness %  Wind Speed  \n",
       "0            40        1.00  \n",
       "1             7        2.00  \n",
       "2            18        1.00  \n",
       "3            90        4.68  \n",
       "4             1       13.90  "
      ]
     },
     "execution_count": 2,
     "metadata": {},
     "output_type": "execute_result"
    }
   ],
   "source": [
    "city_data = pd.read_csv(filepath)\n",
    "city_data.head()"
   ]
  },
  {
   "cell_type": "markdown",
   "metadata": {},
   "source": [
    "### Humidity Heatmap\n",
    "* Configure gmaps.\n",
    "* Use the Lat and Lng as locations and Humidity as the weight.\n",
    "* Add Heatmap layer to map."
   ]
  },
  {
   "cell_type": "code",
   "execution_count": 3,
   "metadata": {},
   "outputs": [],
   "source": [
    "gmaps.configure(api_key=g_key)"
   ]
  },
  {
   "cell_type": "code",
   "execution_count": 4,
   "metadata": {
    "scrolled": true
   },
   "outputs": [
    {
     "data": {
      "application/vnd.jupyter.widget-view+json": {
       "model_id": "ffe297332c034ec09ba3bd62331c83ee",
       "version_major": 2,
       "version_minor": 0
      },
      "text/plain": [
       "Figure(layout=FigureLayout(height='420px'))"
      ]
     },
     "metadata": {},
     "output_type": "display_data"
    }
   ],
   "source": [
    "locations = city_data[['Latitude', 'Longitude']].astype(float)\n",
    "humidity = city_data['Humidity %'].astype(float)\n",
    "\n",
    "fig = gmaps.figure()\n",
    "heat_layer = gmaps.heatmap_layer(locations, weights=humidity, \n",
    "                                dissipating=False, max_intensity=100,\n",
    "                                point_radius=1)\n",
    "fig.add_layer(heat_layer)\n",
    "fig"
   ]
  },
  {
   "cell_type": "markdown",
   "metadata": {},
   "source": [
    "### Create new DataFrame fitting weather criteria\n",
    "* Narrow down the cities to fit weather conditions.\n",
    "* Drop any rows will null values."
   ]
  },
  {
   "cell_type": "code",
   "execution_count": 5,
   "metadata": {},
   "outputs": [
    {
     "data": {
      "text/html": [
       "<div>\n",
       "<style scoped>\n",
       "    .dataframe tbody tr th:only-of-type {\n",
       "        vertical-align: middle;\n",
       "    }\n",
       "\n",
       "    .dataframe tbody tr th {\n",
       "        vertical-align: top;\n",
       "    }\n",
       "\n",
       "    .dataframe thead th {\n",
       "        text-align: right;\n",
       "    }\n",
       "</style>\n",
       "<table border=\"1\" class=\"dataframe\">\n",
       "  <thead>\n",
       "    <tr style=\"text-align: right;\">\n",
       "      <th></th>\n",
       "      <th>City</th>\n",
       "      <th>Temperature_Max</th>\n",
       "      <th>Latitude</th>\n",
       "      <th>Longitude</th>\n",
       "      <th>Humidity %</th>\n",
       "      <th>Cloudiness %</th>\n",
       "      <th>Wind Speed</th>\n",
       "    </tr>\n",
       "  </thead>\n",
       "  <tbody>\n",
       "    <tr>\n",
       "      <td>0</td>\n",
       "      <td>Muroto-misakicho</td>\n",
       "      <td>19.00</td>\n",
       "      <td>33.28</td>\n",
       "      <td>134.15</td>\n",
       "      <td>19</td>\n",
       "      <td>20</td>\n",
       "      <td>8.20</td>\n",
       "    </tr>\n",
       "    <tr>\n",
       "      <td>1</td>\n",
       "      <td>Ojinaga</td>\n",
       "      <td>21.00</td>\n",
       "      <td>29.57</td>\n",
       "      <td>-104.42</td>\n",
       "      <td>21</td>\n",
       "      <td>1</td>\n",
       "      <td>4.60</td>\n",
       "    </tr>\n",
       "    <tr>\n",
       "      <td>2</td>\n",
       "      <td>Jiménez</td>\n",
       "      <td>20.87</td>\n",
       "      <td>28.33</td>\n",
       "      <td>-105.40</td>\n",
       "      <td>13</td>\n",
       "      <td>15</td>\n",
       "      <td>3.19</td>\n",
       "    </tr>\n",
       "    <tr>\n",
       "      <td>3</td>\n",
       "      <td>Zhangjiakou Shi Xuanhua Qu</td>\n",
       "      <td>16.37</td>\n",
       "      <td>40.61</td>\n",
       "      <td>115.04</td>\n",
       "      <td>12</td>\n",
       "      <td>0</td>\n",
       "      <td>1.59</td>\n",
       "    </tr>\n",
       "    <tr>\n",
       "      <td>4</td>\n",
       "      <td>Illela</td>\n",
       "      <td>24.77</td>\n",
       "      <td>13.73</td>\n",
       "      <td>5.30</td>\n",
       "      <td>20</td>\n",
       "      <td>14</td>\n",
       "      <td>0.21</td>\n",
       "    </tr>\n",
       "    <tr>\n",
       "      <td>5</td>\n",
       "      <td>Tahoua</td>\n",
       "      <td>28.00</td>\n",
       "      <td>14.89</td>\n",
       "      <td>5.27</td>\n",
       "      <td>23</td>\n",
       "      <td>14</td>\n",
       "      <td>1.00</td>\n",
       "    </tr>\n",
       "    <tr>\n",
       "      <td>6</td>\n",
       "      <td>Marabba</td>\n",
       "      <td>27.67</td>\n",
       "      <td>12.35</td>\n",
       "      <td>32.18</td>\n",
       "      <td>9</td>\n",
       "      <td>0</td>\n",
       "      <td>5.61</td>\n",
       "    </tr>\n",
       "    <tr>\n",
       "      <td>7</td>\n",
       "      <td>Kayes</td>\n",
       "      <td>23.77</td>\n",
       "      <td>14.00</td>\n",
       "      <td>-11.00</td>\n",
       "      <td>23</td>\n",
       "      <td>12</td>\n",
       "      <td>1.38</td>\n",
       "    </tr>\n",
       "    <tr>\n",
       "      <td>8</td>\n",
       "      <td>Taoudenni</td>\n",
       "      <td>16.17</td>\n",
       "      <td>22.68</td>\n",
       "      <td>-3.98</td>\n",
       "      <td>19</td>\n",
       "      <td>11</td>\n",
       "      <td>3.27</td>\n",
       "    </tr>\n",
       "  </tbody>\n",
       "</table>\n",
       "</div>"
      ],
      "text/plain": [
       "                         City  Temperature_Max  Latitude  Longitude  \\\n",
       "0            Muroto-misakicho            19.00     33.28     134.15   \n",
       "1                     Ojinaga            21.00     29.57    -104.42   \n",
       "2                     Jiménez            20.87     28.33    -105.40   \n",
       "3  Zhangjiakou Shi Xuanhua Qu            16.37     40.61     115.04   \n",
       "4                      Illela            24.77     13.73       5.30   \n",
       "5                      Tahoua            28.00     14.89       5.27   \n",
       "6                     Marabba            27.67     12.35      32.18   \n",
       "7                       Kayes            23.77     14.00     -11.00   \n",
       "8                   Taoudenni            16.17     22.68      -3.98   \n",
       "\n",
       "   Humidity %  Cloudiness %  Wind Speed  \n",
       "0          19            20        8.20  \n",
       "1          21             1        4.60  \n",
       "2          13            15        3.19  \n",
       "3          12             0        1.59  \n",
       "4          20            14        0.21  \n",
       "5          23            14        1.00  \n",
       "6           9             0        5.61  \n",
       "7          23            12        1.38  \n",
       "8          19            11        3.27  "
      ]
     },
     "execution_count": 5,
     "metadata": {},
     "output_type": "execute_result"
    }
   ],
   "source": [
    "idealWeather = city_data.loc[city_data['Temperature_Max']>15].loc[city_data['Cloudiness %']<25].loc[city_data['Humidity %']<25].loc[city_data['Wind Speed']<10].reset_index(drop=True)\n",
    "idealWeather "
   ]
  },
  {
   "cell_type": "markdown",
   "metadata": {},
   "source": [
    "### Hotel Map\n",
    "* Store into variable named `hotel_df`.\n",
    "* Add a \"Hotel Name\" column to the DataFrame.\n",
    "* Set parameters to search for hotels with 5000 meters.\n",
    "* Hit the Google Places API for each city's coordinates.\n",
    "* Store the first Hotel result into the DataFrame.\n",
    "* Plot markers on top of the heatmap."
   ]
  },
  {
   "cell_type": "code",
   "execution_count": 6,
   "metadata": {},
   "outputs": [],
   "source": [
    "hotel_df = pd.DataFrame()\n",
    "hotel_df['Hotel Name'] = \"\""
   ]
  },
  {
   "cell_type": "code",
   "execution_count": 7,
   "metadata": {},
   "outputs": [
    {
     "name": "stdout",
     "output_type": "stream",
     "text": [
      "Missing field/result... skipping.\n",
      "Missing field/result... skipping.\n",
      "Missing field/result... skipping.\n",
      "Missing field/result... skipping.\n",
      "Missing field/result... skipping.\n"
     ]
    }
   ],
   "source": [
    "# params dictionary to update each iteration\n",
    "params = {\n",
    "    \"radius\": 5000,\n",
    "    \"keyword\": \"hotel\",\n",
    "    \"type\": \"lodging\",\n",
    "    \"key\": g_key\n",
    "    }\n",
    "\n",
    "# Use the lat/lng we recovered to identify hotels\n",
    "for index, row in idealWeather.iterrows():\n",
    "    # get lat, lng from df\n",
    "    lat = row[\"Latitude\"]\n",
    "    lng = row[\"Longitude\"]\n",
    "\n",
    "    # change location each iteration while leaving original params in place\n",
    "    params[\"location\"] = f\"{lat},{lng}\"\n",
    "    \n",
    "    # Use the search term: \"hotel\" and our lat/lng\n",
    "    base_url = \"https://maps.googleapis.com/maps/api/place/nearbysearch/json\"\n",
    "\n",
    "    # make request and print url\n",
    "    hotel = requests.get(base_url, params=params)\n",
    "    \n",
    "    # convert to json\n",
    "    hotel = hotel.json()\n",
    "\n",
    "    try:\n",
    "        hotel_df.loc[index, \"Hotel Name\"] = hotel['results'][0]['name']\n",
    "        hotel_df.loc[index, \"Lat\"] = hotel['results'][0]['geometry']['location']['lat']\n",
    "        hotel_df.loc[index, \"Lng\"] = hotel['results'][0]['geometry']['location']['lng']\n",
    "\n",
    "       \n",
    "    except (KeyError, IndexError):\n",
    "        print(\"Missing field/result... skipping.\")"
   ]
  },
  {
   "cell_type": "code",
   "execution_count": 8,
   "metadata": {
    "scrolled": true
   },
   "outputs": [
    {
     "data": {
      "text/html": [
       "<div>\n",
       "<style scoped>\n",
       "    .dataframe tbody tr th:only-of-type {\n",
       "        vertical-align: middle;\n",
       "    }\n",
       "\n",
       "    .dataframe tbody tr th {\n",
       "        vertical-align: top;\n",
       "    }\n",
       "\n",
       "    .dataframe thead th {\n",
       "        text-align: right;\n",
       "    }\n",
       "</style>\n",
       "<table border=\"1\" class=\"dataframe\">\n",
       "  <thead>\n",
       "    <tr style=\"text-align: right;\">\n",
       "      <th></th>\n",
       "      <th>Hotel Name</th>\n",
       "      <th>Lat</th>\n",
       "      <th>Lng</th>\n",
       "    </tr>\n",
       "  </thead>\n",
       "  <tbody>\n",
       "    <tr>\n",
       "      <td>0</td>\n",
       "      <td>ウトコ オーベルジュ＆スパ</td>\n",
       "      <td>33.257897</td>\n",
       "      <td>134.182196</td>\n",
       "    </tr>\n",
       "    <tr>\n",
       "      <td>1</td>\n",
       "      <td>Hotel Cañon del Peguis</td>\n",
       "      <td>29.551111</td>\n",
       "      <td>-104.422222</td>\n",
       "    </tr>\n",
       "    <tr>\n",
       "      <td>2</td>\n",
       "      <td>Norinco Hotel</td>\n",
       "      <td>40.607256</td>\n",
       "      <td>115.080537</td>\n",
       "    </tr>\n",
       "    <tr>\n",
       "      <td>3</td>\n",
       "      <td>HOTEL TARKA</td>\n",
       "      <td>14.883738</td>\n",
       "      <td>5.298127</td>\n",
       "    </tr>\n",
       "  </tbody>\n",
       "</table>\n",
       "</div>"
      ],
      "text/plain": [
       "               Hotel Name        Lat         Lng\n",
       "0           ウトコ オーベルジュ＆スパ  33.257897  134.182196\n",
       "1  Hotel Cañon del Peguis  29.551111 -104.422222\n",
       "2           Norinco Hotel  40.607256  115.080537\n",
       "3             HOTEL TARKA  14.883738    5.298127"
      ]
     },
     "execution_count": 8,
     "metadata": {},
     "output_type": "execute_result"
    }
   ],
   "source": [
    "hotel_df = hotel_df.dropna().reset_index(drop = True)\n",
    "hotel_df"
   ]
  },
  {
   "cell_type": "code",
   "execution_count": 9,
   "metadata": {},
   "outputs": [],
   "source": [
    "params = {\n",
    "    \"key\": g_key\n",
    "    }\n",
    "\n",
    "# Use the lat/lng we recovered to identify hotels\n",
    "for index, row in hotel_df.iterrows():\n",
    "    # get lat, lng from df\n",
    "    lat = row[\"Lat\"]\n",
    "    lng = row[\"Lng\"]\n",
    "\n",
    "    # change location each iteration while leaving original params in place\n",
    "    params[\"latlng\"] = f\"{lat},{lng}\"\n",
    "    \n",
    "    # Use the search term: \"hotel\" and our lat/lng\n",
    "    base_url = \"https://maps.googleapis.com/maps/api/geocode/json\"\n",
    "\n",
    "    # make request and print url\n",
    "    location = requests.get(base_url, params=params)\n",
    "    \n",
    "    # convert to json\n",
    "    location = location.json()\n",
    "        \n",
    "    if location['results'][0]['address_components'][0]['types'] == ['locality','political']:\n",
    "        hotel_df.loc[index, \"City\"] = location['results'][0]['address_components'][0]['long_name']\n",
    "    elif location['results'][0]['address_components'][1]['types'] == ['locality','political']:\n",
    "        hotel_df.loc[index, \"City\"] = location['results'][0]['address_components'][1]['long_name']\n",
    "    elif location['results'][0]['address_components'][2]['types'] == ['locality','political']:\n",
    "        hotel_df.loc[index, \"City\"] = location['results'][0]['address_components'][2]['long_name']\n",
    "    elif location['results'][0]['address_components'][3]['types'] == ['locality','political']:\n",
    "        hotel_df.loc[index, \"City\"] = location['results'][0]['address_components'][3]['long_name']\n",
    "    elif location['results'][0]['address_components'][4]['types'] == ['locality','political']:\n",
    "        hotel_df.loc[index, \"City\"] = location['results'][0]['address_components'][4]['long_name']\n",
    "    elif location['results'][0]['address_components'][5]['types'] == ['locality','political']:\n",
    "        hotel_df.loc[index, \"City\"] = location['results'][0]['address_components'][5]['long_name']\n",
    "        \n",
    "        \n",
    "    if location['results'][0]['address_components'][0]['types'] == ['country','political']:\n",
    "         hotel_df.loc[index, \"Country\"] = location['results'][0]['address_components'][0]['long_name']\n",
    "    elif location['results'][0]['address_components'][1]['types'] == ['country', 'political']:\n",
    "         hotel_df.loc[index, \"Country\"] = location['results'][0]['address_components'][1]['long_name']\n",
    "    elif location['results'][0]['address_components'][2]['types'] == ['country', 'political']:\n",
    "        city.loc[index, \"Country\"] = location['results'][0]['address_components'][2]['long_name']\n",
    "    elif location['results'][0]['address_components'][3]['types'] == ['country', 'political']:\n",
    "        hotel_df.loc[index, \"Country\"] = location['results'][0]['address_components'][3]['long_name']\n",
    "    elif location['results'][0]['address_components'][4]['types'] == ['country', 'political']:\n",
    "        hotel_df.loc[index, \"Country\"] = location['results'][0]['address_components'][4]['long_name']\n",
    "    elif location['results'][0]['address_components'][5]['types'] == ['country', 'political']:\n",
    "        hotel_df.loc[index, \"Country\"] = location['results'][0]['address_components'][5]['long_name']\n",
    "    elif location['results'][0]['address_components'][6]['types'] == ['country', 'political']:\n",
    "        hotel_df.loc[index, \"Country\"] = location['results'][0]['address_components'][6]['long_name']"
   ]
  },
  {
   "cell_type": "code",
   "execution_count": 10,
   "metadata": {},
   "outputs": [
    {
     "data": {
      "text/html": [
       "<div>\n",
       "<style scoped>\n",
       "    .dataframe tbody tr th:only-of-type {\n",
       "        vertical-align: middle;\n",
       "    }\n",
       "\n",
       "    .dataframe tbody tr th {\n",
       "        vertical-align: top;\n",
       "    }\n",
       "\n",
       "    .dataframe thead th {\n",
       "        text-align: right;\n",
       "    }\n",
       "</style>\n",
       "<table border=\"1\" class=\"dataframe\">\n",
       "  <thead>\n",
       "    <tr style=\"text-align: right;\">\n",
       "      <th></th>\n",
       "      <th>Hotel Name</th>\n",
       "      <th>Lat</th>\n",
       "      <th>Lng</th>\n",
       "      <th>City</th>\n",
       "      <th>Country</th>\n",
       "    </tr>\n",
       "  </thead>\n",
       "  <tbody>\n",
       "    <tr>\n",
       "      <td>0</td>\n",
       "      <td>ウトコ オーベルジュ＆スパ</td>\n",
       "      <td>33.257897</td>\n",
       "      <td>134.182196</td>\n",
       "      <td>Muroto</td>\n",
       "      <td>Japan</td>\n",
       "    </tr>\n",
       "    <tr>\n",
       "      <td>1</td>\n",
       "      <td>Hotel Cañon del Peguis</td>\n",
       "      <td>29.551111</td>\n",
       "      <td>-104.422222</td>\n",
       "      <td>Ojinaga</td>\n",
       "      <td>Mexico</td>\n",
       "    </tr>\n",
       "    <tr>\n",
       "      <td>2</td>\n",
       "      <td>Norinco Hotel</td>\n",
       "      <td>40.607256</td>\n",
       "      <td>115.080537</td>\n",
       "      <td>Zhangjiakou Shi</td>\n",
       "      <td>China</td>\n",
       "    </tr>\n",
       "    <tr>\n",
       "      <td>3</td>\n",
       "      <td>HOTEL TARKA</td>\n",
       "      <td>14.883738</td>\n",
       "      <td>5.298127</td>\n",
       "      <td>Tahoua</td>\n",
       "      <td>Niger</td>\n",
       "    </tr>\n",
       "  </tbody>\n",
       "</table>\n",
       "</div>"
      ],
      "text/plain": [
       "               Hotel Name        Lat         Lng             City Country\n",
       "0           ウトコ オーベルジュ＆スパ  33.257897  134.182196           Muroto   Japan\n",
       "1  Hotel Cañon del Peguis  29.551111 -104.422222          Ojinaga  Mexico\n",
       "2           Norinco Hotel  40.607256  115.080537  Zhangjiakou Shi   China\n",
       "3             HOTEL TARKA  14.883738    5.298127           Tahoua   Niger"
      ]
     },
     "execution_count": 10,
     "metadata": {},
     "output_type": "execute_result"
    }
   ],
   "source": [
    "hotel_df"
   ]
  },
  {
   "cell_type": "code",
   "execution_count": 11,
   "metadata": {},
   "outputs": [],
   "source": [
    "# NOTE: Do not change any of the code in this cell\n",
    "\n",
    "# Using the template add the hotel marks to the heatmap\n",
    "info_box_template = \"\"\"\n",
    "<dl>\n",
    "<dt>Name</dt><dd>{Hotel Name}</dd>\n",
    "<dt>City</dt><dd>{City}</dd>\n",
    "<dt>Country</dt><dd>{Country}</dd>\n",
    "</dl>\n",
    "\"\"\"\n",
    "# Store the DataFrame Row\n",
    "# NOTE: be sure to update with your DataFrame name\n",
    "hotel_info = [info_box_template.format(**row) for index, row in hotel_df.iterrows()]\n",
    "locations = hotel_df[[\"Lat\", \"Lng\"]]"
   ]
  },
  {
   "cell_type": "code",
   "execution_count": 12,
   "metadata": {
    "scrolled": true
   },
   "outputs": [
    {
     "data": {
      "application/vnd.jupyter.widget-view+json": {
       "model_id": "e4c8053b6af84aa08757a59202c47e2a",
       "version_major": 2,
       "version_minor": 0
      },
      "text/plain": [
       "Figure(layout=FigureLayout(height='420px'))"
      ]
     },
     "metadata": {},
     "output_type": "display_data"
    }
   ],
   "source": [
    "# Add marker layer ontop of heat map\n",
    "fig = gmaps.figure()\n",
    "markers_layer = gmaps.marker_layer(locations, info_box_content=hotel_info)\n",
    "fig.add_layer(markers_layer)\n",
    "fig\n",
    "\n",
    "fig = gmaps.figure()\n",
    "\n",
    "fig.add_layer(heat_layer)\n",
    "fig.add_layer(markers_layer)\n",
    "\n",
    "# Display Map\n",
    "fig\n"
   ]
  },
  {
   "cell_type": "code",
   "execution_count": null,
   "metadata": {},
   "outputs": [],
   "source": []
  }
 ],
 "metadata": {
  "kernelspec": {
   "display_name": "Python 3",
   "language": "python",
   "name": "python3"
  },
  "language_info": {
   "codemirror_mode": {
    "name": "ipython",
    "version": 3
   },
   "file_extension": ".py",
   "mimetype": "text/x-python",
   "name": "python",
   "nbconvert_exporter": "python",
   "pygments_lexer": "ipython3",
   "version": "3.7.4"
  },
  "latex_envs": {
   "LaTeX_envs_menu_present": true,
   "autoclose": false,
   "autocomplete": true,
   "bibliofile": "biblio.bib",
   "cite_by": "apalike",
   "current_citInitial": 1,
   "eqLabelWithNumbers": true,
   "eqNumInitial": 1,
   "hotkeys": {
    "equation": "Ctrl-E",
    "itemize": "Ctrl-I"
   },
   "labels_anchors": false,
   "latex_user_defs": false,
   "report_style_numbering": false,
   "user_envs_cfg": false
  }
 },
 "nbformat": 4,
 "nbformat_minor": 2
}
