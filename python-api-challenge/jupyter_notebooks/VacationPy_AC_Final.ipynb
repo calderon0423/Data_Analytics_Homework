{
 "cells": [
  {
   "cell_type": "markdown",
   "metadata": {},
   "source": [
    "# VacationPy\n",
    "----\n",
    "\n",
    "#### Note\n",
    "* Instructions have been included for each segment. You do not have to follow them exactly, but they are included to help you think through the steps."
   ]
  },
  {
   "cell_type": "code",
   "execution_count": 1,
   "metadata": {},
   "outputs": [],
   "source": [
    "# Dependencies and Setup\n",
    "import matplotlib.pyplot as plt\n",
    "import pandas as pd\n",
    "import numpy as np\n",
    "import requests\n",
    "import gmaps\n",
    "import os\n",
    "\n",
    "# Import API key\n",
    "from api_keys import g_key\n",
    "\n",
    "filepath = \"../output_data/cities.csv\""
   ]
  },
  {
   "cell_type": "markdown",
   "metadata": {},
   "source": [
    "### Store Part I results into DataFrame\n",
    "* Load the csv exported in Part I to a DataFrame"
   ]
  },
  {
   "cell_type": "code",
   "execution_count": 2,
   "metadata": {},
   "outputs": [
    {
     "data": {
      "text/html": [
       "<div>\n",
       "<style scoped>\n",
       "    .dataframe tbody tr th:only-of-type {\n",
       "        vertical-align: middle;\n",
       "    }\n",
       "\n",
       "    .dataframe tbody tr th {\n",
       "        vertical-align: top;\n",
       "    }\n",
       "\n",
       "    .dataframe thead th {\n",
       "        text-align: right;\n",
       "    }\n",
       "</style>\n",
       "<table border=\"1\" class=\"dataframe\">\n",
       "  <thead>\n",
       "    <tr style=\"text-align: right;\">\n",
       "      <th></th>\n",
       "      <th>City</th>\n",
       "      <th>Temperature_Max</th>\n",
       "      <th>Latitude</th>\n",
       "      <th>Longitude</th>\n",
       "      <th>Humidity %</th>\n",
       "      <th>Cloudiness %</th>\n",
       "      <th>Wind Speed</th>\n",
       "    </tr>\n",
       "  </thead>\n",
       "  <tbody>\n",
       "    <tr>\n",
       "      <td>0</td>\n",
       "      <td>Ushuaia</td>\n",
       "      <td>8.0</td>\n",
       "      <td>-54.80</td>\n",
       "      <td>-68.30</td>\n",
       "      <td>81</td>\n",
       "      <td>75</td>\n",
       "      <td>9.30</td>\n",
       "    </tr>\n",
       "    <tr>\n",
       "      <td>1</td>\n",
       "      <td>Rikitea</td>\n",
       "      <td>25.9</td>\n",
       "      <td>-23.12</td>\n",
       "      <td>-134.97</td>\n",
       "      <td>75</td>\n",
       "      <td>100</td>\n",
       "      <td>4.06</td>\n",
       "    </tr>\n",
       "    <tr>\n",
       "      <td>2</td>\n",
       "      <td>Gwanda</td>\n",
       "      <td>18.1</td>\n",
       "      <td>-20.93</td>\n",
       "      <td>29.00</td>\n",
       "      <td>77</td>\n",
       "      <td>90</td>\n",
       "      <td>1.10</td>\n",
       "    </tr>\n",
       "    <tr>\n",
       "      <td>3</td>\n",
       "      <td>Dikson</td>\n",
       "      <td>-12.6</td>\n",
       "      <td>73.51</td>\n",
       "      <td>80.55</td>\n",
       "      <td>92</td>\n",
       "      <td>0</td>\n",
       "      <td>3.74</td>\n",
       "    </tr>\n",
       "    <tr>\n",
       "      <td>4</td>\n",
       "      <td>Itacoatiara</td>\n",
       "      <td>23.0</td>\n",
       "      <td>-3.14</td>\n",
       "      <td>-58.44</td>\n",
       "      <td>100</td>\n",
       "      <td>71</td>\n",
       "      <td>1.04</td>\n",
       "    </tr>\n",
       "  </tbody>\n",
       "</table>\n",
       "</div>"
      ],
      "text/plain": [
       "          City  Temperature_Max  Latitude  Longitude  Humidity %  \\\n",
       "0      Ushuaia              8.0    -54.80     -68.30          81   \n",
       "1      Rikitea             25.9    -23.12    -134.97          75   \n",
       "2       Gwanda             18.1    -20.93      29.00          77   \n",
       "3       Dikson            -12.6     73.51      80.55          92   \n",
       "4  Itacoatiara             23.0     -3.14     -58.44         100   \n",
       "\n",
       "   Cloudiness %  Wind Speed  \n",
       "0            75        9.30  \n",
       "1           100        4.06  \n",
       "2            90        1.10  \n",
       "3             0        3.74  \n",
       "4            71        1.04  "
      ]
     },
     "execution_count": 2,
     "metadata": {},
     "output_type": "execute_result"
    }
   ],
   "source": [
    "city_data = pd.read_csv(filepath)\n",
    "city_data.head()"
   ]
  },
  {
   "cell_type": "markdown",
   "metadata": {},
   "source": [
    "### Humidity Heatmap\n",
    "* Configure gmaps.\n",
    "* Use the Lat and Lng as locations and Humidity as the weight.\n",
    "* Add Heatmap layer to map."
   ]
  },
  {
   "cell_type": "code",
   "execution_count": 3,
   "metadata": {},
   "outputs": [],
   "source": [
    "gmaps.configure(api_key=g_key)"
   ]
  },
  {
   "cell_type": "code",
   "execution_count": 4,
   "metadata": {
    "scrolled": true
   },
   "outputs": [
    {
     "data": {
      "application/vnd.jupyter.widget-view+json": {
       "model_id": "4151b37f71994aa0804c13017f6c629c",
       "version_major": 2,
       "version_minor": 0
      },
      "text/plain": [
       "Figure(layout=FigureLayout(height='420px'))"
      ]
     },
     "metadata": {},
     "output_type": "display_data"
    }
   ],
   "source": [
    "locations = city_data[['Latitude', 'Longitude']].astype(float)\n",
    "humidity = city_data['Humidity %'].astype(float)\n",
    "\n",
    "fig = gmaps.figure()\n",
    "heat_layer = gmaps.heatmap_layer(locations, weights=humidity, \n",
    "                                dissipating=False, max_intensity=100,\n",
    "                                point_radius=1)\n",
    "fig.add_layer(heat_layer)\n",
    "fig"
   ]
  },
  {
   "cell_type": "markdown",
   "metadata": {},
   "source": [
    "### Create new DataFrame fitting weather criteria\n",
    "* Narrow down the cities to fit weather conditions.\n",
    "* Drop any rows will null values."
   ]
  },
  {
   "cell_type": "code",
   "execution_count": 5,
   "metadata": {},
   "outputs": [
    {
     "data": {
      "text/html": [
       "<div>\n",
       "<style scoped>\n",
       "    .dataframe tbody tr th:only-of-type {\n",
       "        vertical-align: middle;\n",
       "    }\n",
       "\n",
       "    .dataframe tbody tr th {\n",
       "        vertical-align: top;\n",
       "    }\n",
       "\n",
       "    .dataframe thead th {\n",
       "        text-align: right;\n",
       "    }\n",
       "</style>\n",
       "<table border=\"1\" class=\"dataframe\">\n",
       "  <thead>\n",
       "    <tr style=\"text-align: right;\">\n",
       "      <th></th>\n",
       "      <th>City</th>\n",
       "      <th>Temperature_Max</th>\n",
       "      <th>Latitude</th>\n",
       "      <th>Longitude</th>\n",
       "      <th>Humidity %</th>\n",
       "      <th>Cloudiness %</th>\n",
       "      <th>Wind Speed</th>\n",
       "    </tr>\n",
       "  </thead>\n",
       "  <tbody>\n",
       "    <tr>\n",
       "      <td>0</td>\n",
       "      <td>Carnarvon</td>\n",
       "      <td>37.00</td>\n",
       "      <td>-24.87</td>\n",
       "      <td>113.63</td>\n",
       "      <td>20</td>\n",
       "      <td>0</td>\n",
       "      <td>6.70</td>\n",
       "    </tr>\n",
       "    <tr>\n",
       "      <td>1</td>\n",
       "      <td>Portales</td>\n",
       "      <td>21.00</td>\n",
       "      <td>34.19</td>\n",
       "      <td>-103.33</td>\n",
       "      <td>18</td>\n",
       "      <td>1</td>\n",
       "      <td>5.70</td>\n",
       "    </tr>\n",
       "    <tr>\n",
       "      <td>2</td>\n",
       "      <td>Gouré</td>\n",
       "      <td>26.20</td>\n",
       "      <td>13.98</td>\n",
       "      <td>10.27</td>\n",
       "      <td>14</td>\n",
       "      <td>0</td>\n",
       "      <td>2.50</td>\n",
       "    </tr>\n",
       "    <tr>\n",
       "      <td>3</td>\n",
       "      <td>Las Cruces</td>\n",
       "      <td>23.00</td>\n",
       "      <td>32.31</td>\n",
       "      <td>-106.78</td>\n",
       "      <td>16</td>\n",
       "      <td>1</td>\n",
       "      <td>9.30</td>\n",
       "    </tr>\n",
       "    <tr>\n",
       "      <td>4</td>\n",
       "      <td>Umluj</td>\n",
       "      <td>20.20</td>\n",
       "      <td>25.02</td>\n",
       "      <td>37.27</td>\n",
       "      <td>21</td>\n",
       "      <td>23</td>\n",
       "      <td>1.46</td>\n",
       "    </tr>\n",
       "    <tr>\n",
       "      <td>5</td>\n",
       "      <td>Shirdi</td>\n",
       "      <td>29.70</td>\n",
       "      <td>19.77</td>\n",
       "      <td>74.48</td>\n",
       "      <td>24</td>\n",
       "      <td>0</td>\n",
       "      <td>4.35</td>\n",
       "    </tr>\n",
       "    <tr>\n",
       "      <td>6</td>\n",
       "      <td>Meadow Lake</td>\n",
       "      <td>15.56</td>\n",
       "      <td>34.80</td>\n",
       "      <td>-106.54</td>\n",
       "      <td>19</td>\n",
       "      <td>1</td>\n",
       "      <td>9.30</td>\n",
       "    </tr>\n",
       "  </tbody>\n",
       "</table>\n",
       "</div>"
      ],
      "text/plain": [
       "          City  Temperature_Max  Latitude  Longitude  Humidity %  \\\n",
       "0    Carnarvon            37.00    -24.87     113.63          20   \n",
       "1     Portales            21.00     34.19    -103.33          18   \n",
       "2        Gouré            26.20     13.98      10.27          14   \n",
       "3   Las Cruces            23.00     32.31    -106.78          16   \n",
       "4        Umluj            20.20     25.02      37.27          21   \n",
       "5       Shirdi            29.70     19.77      74.48          24   \n",
       "6  Meadow Lake            15.56     34.80    -106.54          19   \n",
       "\n",
       "   Cloudiness %  Wind Speed  \n",
       "0             0        6.70  \n",
       "1             1        5.70  \n",
       "2             0        2.50  \n",
       "3             1        9.30  \n",
       "4            23        1.46  \n",
       "5             0        4.35  \n",
       "6             1        9.30  "
      ]
     },
     "execution_count": 5,
     "metadata": {},
     "output_type": "execute_result"
    }
   ],
   "source": [
    "idealWeather = city_data.loc[city_data['Temperature_Max']>15].loc[city_data['Cloudiness %']<25].loc[city_data['Humidity %']<25].loc[city_data['Wind Speed']<10].reset_index(drop=True)\n",
    "idealWeather "
   ]
  },
  {
   "cell_type": "markdown",
   "metadata": {},
   "source": [
    "### Hotel Map\n",
    "* Store into variable named `hotel_df`.\n",
    "* Add a \"Hotel Name\" column to the DataFrame.\n",
    "* Set parameters to search for hotels with 5000 meters.\n",
    "* Hit the Google Places API for each city's coordinates.\n",
    "* Store the first Hotel result into the DataFrame.\n",
    "* Plot markers on top of the heatmap."
   ]
  },
  {
   "cell_type": "code",
   "execution_count": 6,
   "metadata": {},
   "outputs": [],
   "source": [
    "hotel_df = pd.DataFrame()\n",
    "hotel_df['Hotel Name'] = \"\""
   ]
  },
  {
   "cell_type": "code",
   "execution_count": 7,
   "metadata": {},
   "outputs": [
    {
     "name": "stdout",
     "output_type": "stream",
     "text": [
      "Missing field/result... skipping.\n",
      "Missing field/result... skipping.\n"
     ]
    }
   ],
   "source": [
    "# params dictionary to update each iteration\n",
    "params = {\n",
    "    \"radius\": 5000,\n",
    "    \"keyword\": \"hotel\",\n",
    "    \"type\": \"lodging\",\n",
    "    \"key\": g_key\n",
    "    }\n",
    "\n",
    "# Use the lat/lng we recovered to identify hotels\n",
    "for index, row in idealWeather.iterrows():\n",
    "    # get lat, lng from df\n",
    "    lat = row[\"Latitude\"]\n",
    "    lng = row[\"Longitude\"]\n",
    "\n",
    "    # change location each iteration while leaving original params in place\n",
    "    params[\"location\"] = f\"{lat},{lng}\"\n",
    "    \n",
    "    # Use the search term: \"hotel\" and our lat/lng\n",
    "    base_url = \"https://maps.googleapis.com/maps/api/place/nearbysearch/json\"\n",
    "\n",
    "    # make request and print url\n",
    "    hotel = requests.get(base_url, params=params)\n",
    "    \n",
    "    # convert to json\n",
    "    hotel = hotel.json()\n",
    "\n",
    "    try:\n",
    "        hotel_df.loc[index, \"Hotel Name\"] = hotel['results'][0]['name']\n",
    "        hotel_df.loc[index, \"Lat\"] = hotel['results'][0]['geometry']['location']['lat']\n",
    "        hotel_df.loc[index, \"Lng\"] = hotel['results'][0]['geometry']['location']['lng']\n",
    "\n",
    "       \n",
    "    except (KeyError, IndexError):\n",
    "        print(\"Missing field/result... skipping.\")"
   ]
  },
  {
   "cell_type": "code",
   "execution_count": 8,
   "metadata": {
    "scrolled": true
   },
   "outputs": [
    {
     "data": {
      "text/html": [
       "<div>\n",
       "<style scoped>\n",
       "    .dataframe tbody tr th:only-of-type {\n",
       "        vertical-align: middle;\n",
       "    }\n",
       "\n",
       "    .dataframe tbody tr th {\n",
       "        vertical-align: top;\n",
       "    }\n",
       "\n",
       "    .dataframe thead th {\n",
       "        text-align: right;\n",
       "    }\n",
       "</style>\n",
       "<table border=\"1\" class=\"dataframe\">\n",
       "  <thead>\n",
       "    <tr style=\"text-align: right;\">\n",
       "      <th></th>\n",
       "      <th>Hotel Name</th>\n",
       "      <th>Lat</th>\n",
       "      <th>Lng</th>\n",
       "    </tr>\n",
       "  </thead>\n",
       "  <tbody>\n",
       "    <tr>\n",
       "      <td>0</td>\n",
       "      <td>Hospitality Carnarvon</td>\n",
       "      <td>-24.892341</td>\n",
       "      <td>113.655034</td>\n",
       "    </tr>\n",
       "    <tr>\n",
       "      <td>1</td>\n",
       "      <td>Holiday Inn Express &amp; Suites Portales</td>\n",
       "      <td>34.173183</td>\n",
       "      <td>-103.357336</td>\n",
       "    </tr>\n",
       "    <tr>\n",
       "      <td>2</td>\n",
       "      <td>Hotel Encanto de Las Cruces</td>\n",
       "      <td>32.312685</td>\n",
       "      <td>-106.740495</td>\n",
       "    </tr>\n",
       "    <tr>\n",
       "      <td>3</td>\n",
       "      <td>عروس الشاطئ للوحدات السكنية المفروشة</td>\n",
       "      <td>25.040592</td>\n",
       "      <td>37.253971</td>\n",
       "    </tr>\n",
       "    <tr>\n",
       "      <td>4</td>\n",
       "      <td>Sun-n-Sand Shirdi</td>\n",
       "      <td>19.772953</td>\n",
       "      <td>74.479602</td>\n",
       "    </tr>\n",
       "  </tbody>\n",
       "</table>\n",
       "</div>"
      ],
      "text/plain": [
       "                              Hotel Name        Lat         Lng\n",
       "0                  Hospitality Carnarvon -24.892341  113.655034\n",
       "1  Holiday Inn Express & Suites Portales  34.173183 -103.357336\n",
       "2            Hotel Encanto de Las Cruces  32.312685 -106.740495\n",
       "3   عروس الشاطئ للوحدات السكنية المفروشة  25.040592   37.253971\n",
       "4                      Sun-n-Sand Shirdi  19.772953   74.479602"
      ]
     },
     "execution_count": 8,
     "metadata": {},
     "output_type": "execute_result"
    }
   ],
   "source": [
    "hotel_df = hotel_df.dropna().reset_index(drop = True)\n",
    "hotel_df"
   ]
  },
  {
   "cell_type": "code",
   "execution_count": 9,
   "metadata": {},
   "outputs": [],
   "source": [
    "params = {\n",
    "    \"key\": g_key\n",
    "    }\n",
    "\n",
    "# Use the lat/lng we recovered to identify hotels\n",
    "for index, row in hotel_df.iterrows():\n",
    "    # get lat, lng from df\n",
    "    lat = row[\"Lat\"]\n",
    "    lng = row[\"Lng\"]\n",
    "\n",
    "    # change location each iteration while leaving original params in place\n",
    "    params[\"latlng\"] = f\"{lat},{lng}\"\n",
    "    \n",
    "    # Use the search term: \"hotel\" and our lat/lng\n",
    "    base_url = \"https://maps.googleapis.com/maps/api/geocode/json\"\n",
    "\n",
    "    # make request and print url\n",
    "    location = requests.get(base_url, params=params)\n",
    "    \n",
    "    # convert to json\n",
    "    location = location.json()\n",
    "        \n",
    "    if location['results'][0]['address_components'][0]['types'] == ['locality','political']:\n",
    "        hotel_df.loc[index, \"City\"] = location['results'][0]['address_components'][0]['long_name']\n",
    "    elif location['results'][0]['address_components'][1]['types'] == ['locality','political']:\n",
    "        hotel_df.loc[index, \"City\"] = location['results'][0]['address_components'][1]['long_name']\n",
    "    elif location['results'][0]['address_components'][2]['types'] == ['locality','political']:\n",
    "        hotel_df.loc[index, \"City\"] = location['results'][0]['address_components'][2]['long_name']\n",
    "    elif location['results'][0]['address_components'][3]['types'] == ['locality','political']:\n",
    "        hotel_df.loc[index, \"City\"] = location['results'][0]['address_components'][3]['long_name']\n",
    "    elif location['results'][0]['address_components'][4]['types'] == ['locality','political']:\n",
    "        hotel_df.loc[index, \"City\"] = location['results'][0]['address_components'][4]['long_name']\n",
    "    elif location['results'][0]['address_components'][5]['types'] == ['locality','political']:\n",
    "        hotel_df.loc[index, \"City\"] = location['results'][0]['address_components'][5]['long_name']\n",
    "        \n",
    "        \n",
    "    if location['results'][0]['address_components'][0]['types'] == ['country','political']:\n",
    "         hotel_df.loc[index, \"Country\"] = location['results'][0]['address_components'][0]['long_name']\n",
    "    elif location['results'][0]['address_components'][1]['types'] == ['country', 'political']:\n",
    "         hotel_df.loc[index, \"Country\"] = location['results'][0]['address_components'][1]['long_name']\n",
    "    elif location['results'][0]['address_components'][2]['types'] == ['country', 'political']:\n",
    "        city.loc[index, \"Country\"] = location['results'][0]['address_components'][2]['long_name']\n",
    "    elif location['results'][0]['address_components'][3]['types'] == ['country', 'political']:\n",
    "        hotel_df.loc[index, \"Country\"] = location['results'][0]['address_components'][3]['long_name']\n",
    "    elif location['results'][0]['address_components'][4]['types'] == ['country', 'political']:\n",
    "        hotel_df.loc[index, \"Country\"] = location['results'][0]['address_components'][4]['long_name']\n",
    "    elif location['results'][0]['address_components'][5]['types'] == ['country', 'political']:\n",
    "        hotel_df.loc[index, \"Country\"] = location['results'][0]['address_components'][5]['long_name']\n",
    "    elif location['results'][0]['address_components'][6]['types'] == ['country', 'political']:\n",
    "        hotel_df.loc[index, \"Country\"] = location['results'][0]['address_components'][6]['long_name']"
   ]
  },
  {
   "cell_type": "code",
   "execution_count": 10,
   "metadata": {},
   "outputs": [
    {
     "data": {
      "text/html": [
       "<div>\n",
       "<style scoped>\n",
       "    .dataframe tbody tr th:only-of-type {\n",
       "        vertical-align: middle;\n",
       "    }\n",
       "\n",
       "    .dataframe tbody tr th {\n",
       "        vertical-align: top;\n",
       "    }\n",
       "\n",
       "    .dataframe thead th {\n",
       "        text-align: right;\n",
       "    }\n",
       "</style>\n",
       "<table border=\"1\" class=\"dataframe\">\n",
       "  <thead>\n",
       "    <tr style=\"text-align: right;\">\n",
       "      <th></th>\n",
       "      <th>Hotel Name</th>\n",
       "      <th>Lat</th>\n",
       "      <th>Lng</th>\n",
       "      <th>City</th>\n",
       "      <th>Country</th>\n",
       "    </tr>\n",
       "  </thead>\n",
       "  <tbody>\n",
       "    <tr>\n",
       "      <td>0</td>\n",
       "      <td>Hospitality Carnarvon</td>\n",
       "      <td>-24.892341</td>\n",
       "      <td>113.655034</td>\n",
       "      <td>South Carnarvon</td>\n",
       "      <td>Australia</td>\n",
       "    </tr>\n",
       "    <tr>\n",
       "      <td>1</td>\n",
       "      <td>Holiday Inn Express &amp; Suites Portales</td>\n",
       "      <td>34.173183</td>\n",
       "      <td>-103.357336</td>\n",
       "      <td>Portales</td>\n",
       "      <td>United States</td>\n",
       "    </tr>\n",
       "    <tr>\n",
       "      <td>2</td>\n",
       "      <td>Hotel Encanto de Las Cruces</td>\n",
       "      <td>32.312685</td>\n",
       "      <td>-106.740495</td>\n",
       "      <td>Las Cruces</td>\n",
       "      <td>United States</td>\n",
       "    </tr>\n",
       "    <tr>\n",
       "      <td>3</td>\n",
       "      <td>عروس الشاطئ للوحدات السكنية المفروشة</td>\n",
       "      <td>25.040592</td>\n",
       "      <td>37.253971</td>\n",
       "      <td>Umluj</td>\n",
       "      <td>Saudi Arabia</td>\n",
       "    </tr>\n",
       "    <tr>\n",
       "      <td>4</td>\n",
       "      <td>Sun-n-Sand Shirdi</td>\n",
       "      <td>19.772953</td>\n",
       "      <td>74.479602</td>\n",
       "      <td>Shirdi</td>\n",
       "      <td>India</td>\n",
       "    </tr>\n",
       "  </tbody>\n",
       "</table>\n",
       "</div>"
      ],
      "text/plain": [
       "                              Hotel Name        Lat         Lng  \\\n",
       "0                  Hospitality Carnarvon -24.892341  113.655034   \n",
       "1  Holiday Inn Express & Suites Portales  34.173183 -103.357336   \n",
       "2            Hotel Encanto de Las Cruces  32.312685 -106.740495   \n",
       "3   عروس الشاطئ للوحدات السكنية المفروشة  25.040592   37.253971   \n",
       "4                      Sun-n-Sand Shirdi  19.772953   74.479602   \n",
       "\n",
       "              City        Country  \n",
       "0  South Carnarvon      Australia  \n",
       "1         Portales  United States  \n",
       "2       Las Cruces  United States  \n",
       "3            Umluj   Saudi Arabia  \n",
       "4           Shirdi          India  "
      ]
     },
     "execution_count": 10,
     "metadata": {},
     "output_type": "execute_result"
    }
   ],
   "source": [
    "hotel_df"
   ]
  },
  {
   "cell_type": "code",
   "execution_count": 11,
   "metadata": {},
   "outputs": [],
   "source": [
    "# NOTE: Do not change any of the code in this cell\n",
    "\n",
    "# Using the template add the hotel marks to the heatmap\n",
    "info_box_template = \"\"\"\n",
    "<dl>\n",
    "<dt>Name</dt><dd>{Hotel Name}</dd>\n",
    "<dt>City</dt><dd>{City}</dd>\n",
    "<dt>Country</dt><dd>{Country}</dd>\n",
    "</dl>\n",
    "\"\"\"\n",
    "# Store the DataFrame Row\n",
    "# NOTE: be sure to update with your DataFrame name\n",
    "hotel_info = [info_box_template.format(**row) for index, row in hotel_df.iterrows()]\n",
    "locations = hotel_df[[\"Lat\", \"Lng\"]]"
   ]
  },
  {
   "cell_type": "code",
   "execution_count": 12,
   "metadata": {
    "scrolled": true
   },
   "outputs": [
    {
     "data": {
      "application/vnd.jupyter.widget-view+json": {
       "model_id": "cee42e16afe3420ea08b20cb084e112a",
       "version_major": 2,
       "version_minor": 0
      },
      "text/plain": [
       "Figure(layout=FigureLayout(height='420px'))"
      ]
     },
     "metadata": {},
     "output_type": "display_data"
    }
   ],
   "source": [
    "# Add marker layer ontop of heat map\n",
    "fig = gmaps.figure()\n",
    "markers_layer = gmaps.marker_layer(locations, info_box_content=hotel_info)\n",
    "fig.add_layer(markers_layer)\n",
    "fig\n",
    "\n",
    "fig = gmaps.figure()\n",
    "\n",
    "fig.add_layer(heat_layer)\n",
    "fig.add_layer(markers_layer)\n",
    "\n",
    "# Display Map\n",
    "fig\n"
   ]
  }
 ],
 "metadata": {
  "kernelspec": {
   "display_name": "Python 3",
   "language": "python",
   "name": "python3"
  },
  "language_info": {
   "codemirror_mode": {
    "name": "ipython",
    "version": 3
   },
   "file_extension": ".py",
   "mimetype": "text/x-python",
   "name": "python",
   "nbconvert_exporter": "python",
   "pygments_lexer": "ipython3",
   "version": "3.7.4"
  },
  "latex_envs": {
   "LaTeX_envs_menu_present": true,
   "autoclose": false,
   "autocomplete": true,
   "bibliofile": "biblio.bib",
   "cite_by": "apalike",
   "current_citInitial": 1,
   "eqLabelWithNumbers": true,
   "eqNumInitial": 1,
   "hotkeys": {
    "equation": "Ctrl-E",
    "itemize": "Ctrl-I"
   },
   "labels_anchors": false,
   "latex_user_defs": false,
   "report_style_numbering": false,
   "user_envs_cfg": false
  }
 },
 "nbformat": 4,
 "nbformat_minor": 2
}
